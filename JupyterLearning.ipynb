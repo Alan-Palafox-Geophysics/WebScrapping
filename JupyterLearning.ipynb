{
 "cells": [
  {
   "cell_type": "markdown",
   "id": "5238aea4-5087-4426-a56e-94a8ffe6d9b6",
   "metadata": {},
   "source": [
    "# ***Learning to Use Jupyter Notebook***"
   ]
  },
  {
   "cell_type": "markdown",
   "id": "b07d7497-d7fd-45d6-af3b-4e52a8738aa2",
   "metadata": {},
   "source": [
    "#### This notebook is to show how to use Jupyter Notebook"
   ]
  },
  {
   "cell_type": "markdown",
   "id": "36481100-238e-4626-8499-dc589087725b",
   "metadata": {},
   "source": [
    "Data Science Languages :\n",
    "***\n",
    "1. Python\n",
    "2. R\n",
    "3. Scala\n",
    "4. Julia"
   ]
  },
  {
   "cell_type": "markdown",
   "id": "eff155b1-dd3f-414b-94ad-d8ecbdf04fd7",
   "metadata": {},
   "source": [
    "Data Science Packages :\n",
    "***\n",
    "1. Pandas\n",
    "2. Numpy\n",
    "3. Matplotlib\n",
    "4. Seaborn\n",
    "5. Scipy\n",
    "6. Scikit-learn\n",
    "\n",
    "***\n",
    "7. Caret\n",
    "8. Keras\n",
    "9. Tensorflow\n",
    "10. Pytorch"
   ]
  },
  {
   "cell_type": "markdown",
   "id": "46689789-31a9-4803-91ac-79b070f7992b",
   "metadata": {},
   "source": [
    "Arthmetic operations : \n",
    "* sum = a + b\n",
    "* mult = a * b"
   ]
  },
  {
   "cell_type": "code",
   "execution_count": 4,
   "id": "d9b83cb2-c0a4-47fd-954c-0dfa9951f635",
   "metadata": {},
   "outputs": [
    {
     "name": "stdout",
     "output_type": "stream",
     "text": [
      "9\n",
      "20\n"
     ]
    }
   ],
   "source": [
    "def sum2nums(a, b):\n",
    "    c = a + b\n",
    "    return c\n",
    "\n",
    "def mult2nums(a, b):\n",
    "    ab = 0\n",
    "    for i in range(a):\n",
    "        c =+ b + ab\n",
    "        ab = c\n",
    "    return c\n",
    "\n",
    "a = 5\n",
    "b = 4\n",
    "print( sum2nums(a, b) )\n",
    "print( mult2nums(a, b) )"
   ]
  },
  {
   "cell_type": "code",
   "execution_count": 8,
   "id": "7b32c4ba-6c02-4172-aa24-6b391e8a31dc",
   "metadata": {},
   "outputs": [
    {
     "name": "stdout",
     "output_type": "stream",
     "text": [
      "time in minutes = 137;   Time in  Hours = 2.283333333333333\n"
     ]
    }
   ],
   "source": [
    "# Convertir minutos a horas\n",
    "def min2hr(mins):\n",
    "    time = mins/60\n",
    "    return time\n",
    "\n",
    "minutes = 137\n",
    "hours = min2hr(minutes)\n",
    "print(f\"time in minutes = {minutes};   Time in  Hours = {hours}\")"
   ]
  },
  {
   "cell_type": "code",
   "execution_count": 10,
   "id": "5c16162b-e449-4b5e-af8d-bc7848fd18a0",
   "metadata": {},
   "outputs": [
    {
     "name": "stdout",
     "output_type": "stream",
     "text": [
      "1. Python \n",
      "2. R \n",
      "3. Scala \n",
      "4. Julia\n"
     ]
    }
   ],
   "source": [
    "print(\"1. Python \\n2. R \\n3. Scala \\n4. Julia\")"
   ]
  },
  {
   "cell_type": "markdown",
   "id": "7e419ac0-d6ce-42c4-8d1b-69e26c3a3a16",
   "metadata": {},
   "source": [
    "***\n",
    "##### Author:\n",
    "### ****Alan Palafox****"
   ]
  },
  {
   "cell_type": "code",
   "execution_count": null,
   "id": "5af183bc-f424-4f5b-b6a4-cbad3c840cf6",
   "metadata": {},
   "outputs": [],
   "source": []
  }
 ],
 "metadata": {
  "kernelspec": {
   "display_name": "Python 3 (ipykernel)",
   "language": "python",
   "name": "python3"
  },
  "language_info": {
   "codemirror_mode": {
    "name": "ipython",
    "version": 3
   },
   "file_extension": ".py",
   "mimetype": "text/x-python",
   "name": "python",
   "nbconvert_exporter": "python",
   "pygments_lexer": "ipython3",
   "version": "3.11.7"
  }
 },
 "nbformat": 4,
 "nbformat_minor": 5
}
